{
 "cells": [
  {
   "cell_type": "markdown",
   "id": "8c7aaa53-dc11-48ce-afd6-dc088a28c007",
   "metadata": {},
   "source": [
    "# Project 1 Portfolio Analyzer Consumer Stocks VS. Tech Stocks\n",
    "\n",
    "We will be projecting future returns of a portfolio comprised of five consumer stocks as well as a a portfolio comprised of 5 tech stocks over a 15 and 20 year period in order to evaluate the better long term buy. The asset allocation between between stocks and bonds will remain the same between both portfolios.\n",
    "\n",
    "\n",
    "The Stocks we will be analyzing are \n",
    "\n",
    "# Consumer Stocks:             \n",
    "\n",
    "* P&G\n",
    "* Johnson and Johnson\n",
    "* Walmart\n",
    "* Kellogg\n",
    "* Coca Cola\n",
    "\n",
    "# Tech Stocks:\n",
    "\n",
    "* Amazon \n",
    "* Meta\n",
    "* Google\n",
    "* Tesla\n",
    "* NVIDIA\n",
    "\n"
   ]
  },
  {
   "cell_type": "code",
   "execution_count": 46,
   "id": "673e7969-b85f-4f06-9bb4-87f9eb8239b4",
   "metadata": {},
   "outputs": [],
   "source": [
    "import pandas as pd\n",
    "import yfinance as yf\n",
    "from pathlib import Path"
   ]
  },
  {
   "cell_type": "code",
   "execution_count": 47,
   "id": "52699369-9f0f-4164-9d38-ced56c48e79b",
   "metadata": {},
   "outputs": [
    {
     "name": "stdout",
     "output_type": "stream",
     "text": [
      "None\n"
     ]
    }
   ],
   "source": [
    "all_stocks = pd.read_csv('Resources/stocks.csv', header=0)\n",
    "all_stocks = all_stocks.drop(all_stocks.iloc[:, 21:60],axis=1, inplace=True)\n",
    "print(all_stocks)"
   ]
  },
  {
   "cell_type": "code",
   "execution_count": null,
   "id": "adf091d4-97c3-48d9-9fea-98f852a23b64",
   "metadata": {},
   "outputs": [],
   "source": []
  },
  {
   "cell_type": "code",
   "execution_count": null,
   "id": "158ea103-64aa-4265-b7bc-599338e1ad84",
   "metadata": {},
   "outputs": [],
   "source": []
  }
 ],
 "metadata": {
  "kernelspec": {
   "display_name": "Python 3 (ipykernel)",
   "language": "python",
   "name": "python3"
  },
  "language_info": {
   "codemirror_mode": {
    "name": "ipython",
    "version": 3
   },
   "file_extension": ".py",
   "mimetype": "text/x-python",
   "name": "python",
   "nbconvert_exporter": "python",
   "pygments_lexer": "ipython3",
   "version": "3.7.13"
  }
 },
 "nbformat": 4,
 "nbformat_minor": 5
}
